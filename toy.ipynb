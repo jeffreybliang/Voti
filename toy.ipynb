{
 "cells": [
  {
   "cell_type": "code",
   "execution_count": 15,
   "metadata": {},
   "outputs": [],
   "source": [
    "import spotipy\n",
    "from spotipy.oauth2 import SpotifyClientCredentials\n",
    "\n",
    "CLIENT_ID = \"8fda591482034e8fa01a52c5a973a1f5\"\n",
    "CLIENT_SECRET = \"9a4a65a9118748429d389a7ca1596ca1\"\n",
    "sp = spotipy.Spotify(auth_manager=SpotifyClientCredentials(client_id=CLIENT_ID,\n",
    "                                                           client_secret=CLIENT_SECRET))\n"
   ]
  },
  {
   "cell_type": "code",
   "execution_count": 70,
   "metadata": {},
   "outputs": [],
   "source": [
    "def get_artists_ids(artists):\n",
    "    ids = [a['id'] for a in artists]\n",
    "    return ids\n",
    "\n",
    "def get_artists_names(artists):\n",
    "    names = [a['name'] for a in artists]\n",
    "    return names\n",
    "\n",
    "def get_image_urls(image_urls):\n",
    "    url_dict = {}\n",
    "    for d in image_urls:\n",
    "        dim = d['height']\n",
    "        url_dict[dim] = d['url']\n",
    "    return url_dict\n",
    "\n",
    "class Song:\n",
    "    def __init__(self, track) -> None:\n",
    "        self.name = track['name']\n",
    "        self.artists_ids = get_artists_ids(track['artists'])\n",
    "        self.artists_names = get_artists_names(track['artists'])\n",
    "        self.song_id = track['id']\n",
    "        self.release_date = track['album']['release_date']\n",
    "        self.album = track['album']['name']\n",
    "        self.image_urls = get_image_urls(track['album']['images'])\n",
    "        self.url = track['external_urls']['spotify']\n",
    "\n",
    "    def __eq__(self, other: object) -> bool:\n",
    "        if self is other:\n",
    "            return True\n",
    "        elif self.name == other.name and self.artists_ids == other.artists_ids:\n",
    "            return True\n",
    "        else:\n",
    "            return False\n",
    "        \n",
    "    def __str__(self):\n",
    "        return f'{self.name}, {self.artists_names}, {self.release_date}, {self.url}'\n",
    "    \n",
    "    def __repr__(self) -> str:\n",
    "        return f'{self.name}, {self.artists_names}, {self.release_date}, {self.url}'"
   ]
  },
  {
   "cell_type": "code",
   "execution_count": 67,
   "metadata": {},
   "outputs": [],
   "source": [
    "def valid_release_date(release_date:str, start='2023-12-01', end='2024-11-30'):\n",
    "    return start<=release_date<=end\n",
    "\n",
    "def search(query: str, limit=10):\n",
    "    search_results = sp.search(q=query+\"%2520year%3A2023-2024\", limit=limit)\n",
    "    search_results = search_results['tracks']['items']\n",
    "    \n",
    "    invalid_songs = []\n",
    "    unique_tracks = []\n",
    "    search_results = [Song(track) for track in search_results]\n",
    "    for song in search_results:\n",
    "        if (song not in unique_tracks and song not in invalid_songs):\n",
    "            if valid_release_date(song.release_date):\n",
    "                unique_tracks.append(song)\n",
    "            else:\n",
    "                invalid_songs.append(song)\n",
    "    return unique_tracks"
   ]
  },
  {
   "cell_type": "code",
   "execution_count": 69,
   "metadata": {},
   "outputs": [
    {
     "data": {
      "text/plain": [
       "[MILLION DOLLAR BABY, ['Tommy Richman'], 2024-04-26, https://open.spotify.com/track/5AJ9hqTS2wcFQCELCFRO7A,\n",
       " MILLION DOLLAR BABY (VHS), ['Tommy Richman'], 2024-04-26, https://open.spotify.com/track/55HpRb1dWGT3JeX9RpDpLa,\n",
       " 10 Million Dollar Cribs, ['Payroll Giovanni'], 2024-05-17, https://open.spotify.com/track/6reiZXtCWkRQ2XebAe3JwZ]"
      ]
     },
     "execution_count": 69,
     "metadata": {},
     "output_type": "execute_result"
    }
   ],
   "source": [
    "search(\"million dollar\")"
   ]
  }
 ],
 "metadata": {
  "kernelspec": {
   "display_name": ".venv",
   "language": "python",
   "name": "python3"
  },
  "language_info": {
   "codemirror_mode": {
    "name": "ipython",
    "version": 3
   },
   "file_extension": ".py",
   "mimetype": "text/x-python",
   "name": "python",
   "nbconvert_exporter": "python",
   "pygments_lexer": "ipython3",
   "version": "3.12.2"
  },
  "orig_nbformat": 4,
  "vscode": {
   "interpreter": {
    "hash": "9e8ab4aa6d3bd5091b95ad15d7f5e7641c4041168b9141feada453d8ab629fb3"
   }
  }
 },
 "nbformat": 4,
 "nbformat_minor": 2
}
